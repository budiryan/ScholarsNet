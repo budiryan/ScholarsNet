{
 "cells": [
  {
   "cell_type": "code",
   "execution_count": 7,
   "metadata": {
    "collapsed": false,
    "deletable": true,
    "editable": true
   },
   "outputs": [],
   "source": [
    "from sklearn.feature_extraction.text import TfidfVectorizer\n",
    "from sklearn.naive_bayes import MultinomialNB\n",
    "import nltk\n",
    "import string\n",
    "import pandas as pd\n",
    "import numpy as np\n",
    "import sys\n",
    "import pickle\n",
    "import re\n",
    "import json"
   ]
  },
  {
   "cell_type": "markdown",
   "metadata": {
    "deletable": true,
    "editable": true
   },
   "source": [
    "## From 32 data sources, aggregate into a single file, then save it to a single file"
   ]
  },
  {
   "cell_type": "code",
   "execution_count": 8,
   "metadata": {
    "collapsed": false,
    "deletable": true,
    "editable": true
   },
   "outputs": [],
   "source": [
    "topic_abbreviation = ['cs.AR', 'cs.AI', 'cs.CL', 'cs.CC', 'cs.CE', 'cs.CG', 'cs.GT', 'cs.CV', 'cs.CY', 'cs.CR', 'cs.DS', 'cs.DB',\n",
    "                 'cs.DL', 'cs.DM', 'cs.DC', 'cs.GL', 'cs.GR', 'cs.HC', 'cs.IR', 'cs.IT', 'cs.LG', 'cs.LO', 'cs.MS', 'cs.MA', \n",
    "                 'cs.MM', 'cs.NI', 'cs.NE', 'cs.NA', 'cs.OS', 'cs.OH', 'cs.PF', 'cs.PL', 'cs.RO', 'cs.SE', 'cs.SD', 'cs.SC']\n",
    "\n",
    "topic_mapping = [\n",
    "    'Architecture',\n",
    "    'Artificial Intelligence',\n",
    "    'Computation and Language',\n",
    "    'Computational Complexity',\n",
    "    'Computational Complexity',\n",
    "    'Computational Geometry',\n",
    "    'Computer Science and Game Theory',\n",
    "    'Computer Vision and Pattern Recognition',\n",
    "    'Computers and Society',\n",
    "    'Cryptography and Security',\n",
    "    'Data Structures and Algorithms',\n",
    "    'Databases',\n",
    "    'Digital Libraries',\n",
    "    'Discrete Mathematics',\n",
    "    'Distributed; Parallel; and Cluster Computing',\n",
    "    'General Literature',\n",
    "    'Graphics',\n",
    "    'Human-Computer Interaction',\n",
    "    'Information Retrieval',\n",
    "    'Information Theory',\n",
    "    'Learning',\n",
    "    'Logic in Computer Science',\n",
    "    'Mathematical Software',\n",
    "    'Multiagent Systems',\n",
    "    'Multimedia',\n",
    "    'Networking and Internet Architecture',\n",
    "    'Neural and Evolutionary Computing',\n",
    "    'Numerical Analysis',\n",
    "    'Operating Systems',\n",
    "    'Other',\n",
    "    'Performance',\n",
    "    'Programming Languages',\n",
    "    'Robotics',\n",
    "    'Software Engineering',\n",
    "    'Sound',\n",
    "    'Symbolic Computation'\n",
    "]\n",
    "\n",
    "generalized_mapping = {\n",
    "    'Architecture' : 'Networking and Computer Systems (NE)',\n",
    "    'Artificial Intelligence': 'Artificial Intelligence (AI)',\n",
    "    'Computation and Language': 'Theoretical Computer Science (TH)',\n",
    "    'Computational Complexity': 'Theoretical Computer Science (TH)',\n",
    "    'Computational Complexity': 'Theoretical Computer Science (TH)',\n",
    "    'Computational Geometry': 'Theoretical Computer Science (TH)',\n",
    "    'Computer Science and Game Theory': 'Theoretical Computer Science (TH)',\n",
    "    'Computer Vision and Pattern Recognition': 'Vision and Graphics (VG)',\n",
    "    'Computers and Society': 'Human Computer Interaction (HCI)',\n",
    "    'Cryptography and Security': 'Cybersecurity (SEC)',\n",
    "    'Data Structures and Algorithms': 'Theoretical Computer Science (TH)',\n",
    "    'Databases': 'Data, Knowledge and Information Management (DB)',\n",
    "    'Digital Libraries': 'Data, Knowledge and Information Management (DB)',\n",
    "    'Discrete Mathematics': 'Theoretical Computer Science (TH)',\n",
    "    'Distributed; Parallel; and Cluster Computing': 'Networking and Computer Systems (NE)',\n",
    "    'General Literature': 'Human Computer Interaction (HCI)',\n",
    "    'Graphics': 'Vision and Graphics (VG)',\n",
    "    'Human-Computer Interaction': 'Human Computer Interaction (HCI)',\n",
    "    'Information Retrieval': 'Theoretical Computer Science (TH)',\n",
    "    'Information Theory': 'Theoretical Computer Science (TH)',\n",
    "    'Learning': 'Artificial Intelligence (AI)',\n",
    "    'Logic in Computer Science': 'Theoretical Computer Science (TH)',\n",
    "    'Mathematical Software': 'Software Technologies (ST)',\n",
    "    'Multiagent Systems': 'Artificial Intelligence',\n",
    "    'Multimedia': 'Software Technologies (ST)',\n",
    "    'Networking and Internet Architecture': 'Networking and Computer Systems (NE)',\n",
    "    'Neural and Evolutionary Computing': 'Artificial Intelligence(AI)',\n",
    "    'Numerical Analysis': 'Theoretical Computer Science (TH)',\n",
    "    'Operating Systems': 'Networking and Computer Systems (NE)',\n",
    "    'Other': 'Other',\n",
    "    'Performance': 'Networking and Computer Systems (NE)',\n",
    "    'Programming Languages': 'Theoretical Computer Science (TH)',\n",
    "    'Robotics': 'Networking and Computer Systems (NE)',\n",
    "    'Software Engineering': 'Software Technologies (ST)',\n",
    "    'Sound': 'Software Technologies (ST)',\n",
    "    'Symbolic Computation': 'Theoretical Computer Science (TH)'\n",
    "}"
   ]
  },
  {
   "cell_type": "code",
   "execution_count": 9,
   "metadata": {
    "collapsed": false,
    "deletable": true,
    "editable": true,
    "scrolled": false
   },
   "outputs": [],
   "source": [
    "columns = ['title', 'category', 'summary']\n",
    "result_df = pd.DataFrame(columns=columns)\n",
    "for t in topic_abbreviation:\n",
    "    with open('json/db_arxiv_' + re.sub(r'cs.', '',t) + '.json') as f:\n",
    "        temp_data = json.load(f)\n",
    "        temp = pd.DataFrame(temp_data)\n",
    "    result_df = result_df.append(temp)"
   ]
  },
  {
   "cell_type": "code",
   "execution_count": 10,
   "metadata": {
    "collapsed": false,
    "deletable": true,
    "editable": true
   },
   "outputs": [],
   "source": [
    "result_df['category'] = result_df['category'].apply(lambda row: topic_mapping[topic_abbreviation.index(row)] if row in topic_abbreviation else 'ab')"
   ]
  },
  {
   "cell_type": "code",
   "execution_count": 12,
   "metadata": {
    "collapsed": false,
    "deletable": true,
    "editable": true
   },
   "outputs": [
    {
     "data": {
      "text/plain": [
       "(112668, 3)"
      ]
     },
     "execution_count": 12,
     "metadata": {},
     "output_type": "execute_result"
    }
   ],
   "source": [
    "result_df = result_df[result_df['category'] != 'ab']\n",
    "result_df.shape"
   ]
  },
  {
   "cell_type": "code",
   "execution_count": 6,
   "metadata": {
    "collapsed": false,
    "deletable": true,
    "editable": true
   },
   "outputs": [],
   "source": [
    "result_df['category'] = result_df['category'].apply(lambda row: generalized_mapping[row])"
   ]
  },
  {
   "cell_type": "code",
   "execution_count": 28,
   "metadata": {
    "collapsed": false,
    "deletable": true,
    "editable": true
   },
   "outputs": [],
   "source": [
    "result_df.to_csv('json/train.csv')"
   ]
  }
 ],
 "metadata": {
  "kernelspec": {
   "display_name": "Python 3",
   "language": "python",
   "name": "python3"
  },
  "language_info": {
   "codemirror_mode": {
    "name": "ipython",
    "version": 3
   },
   "file_extension": ".py",
   "mimetype": "text/x-python",
   "name": "python",
   "nbconvert_exporter": "python",
   "pygments_lexer": "ipython3",
   "version": "3.5.2"
  }
 },
 "nbformat": 4,
 "nbformat_minor": 2
}
